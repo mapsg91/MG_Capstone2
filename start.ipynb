{
 "cells": [
  {
   "cell_type": "markdown",
   "metadata": {},
   "source": [
    "## Importing libraries required"
   ]
  },
  {
   "cell_type": "code",
   "execution_count": 1,
   "metadata": {},
   "outputs": [],
   "source": [
    "#import kagglehub\n",
    "import pandas as pd\n",
    "import numpy as np\n",
    "import seaborn as sns\n",
    "import matplotlib as plt\n",
    "import statsmodels as sm"
   ]
  },
  {
   "cell_type": "markdown",
   "metadata": {},
   "source": [
    "dataset copied to working directory from kagglehub"
   ]
  },
  {
   "cell_type": "markdown",
   "metadata": {},
   "source": [
    "## Importing sheets from Dataset "
   ]
  },
  {
   "cell_type": "code",
   "execution_count": 2,
   "metadata": {},
   "outputs": [],
   "source": [
    "education = pd.read_csv('education.csv')\n",
    "uic_codes = pd.read_csv('UIC_codes.csv')\n",
    "unemployment = pd.read_csv('unemployment.csv')"
   ]
  },
  {
   "cell_type": "code",
   "execution_count": null,
   "metadata": {},
   "outputs": [],
   "source": [
    "print(education)\n",
    "\n"
   ]
  },
  {
   "cell_type": "code",
   "execution_count": null,
   "metadata": {},
   "outputs": [],
   "source": [
    "print(uic_codes)"
   ]
  },
  {
   "cell_type": "code",
   "execution_count": null,
   "metadata": {},
   "outputs": [],
   "source": [
    "print(unemployment)"
   ]
  },
  {
   "cell_type": "code",
   "execution_count": 3,
   "metadata": {},
   "outputs": [
    {
     "name": "stdout",
     "output_type": "stream",
     "text": [
      "<class 'pandas.core.frame.DataFrame'>\n",
      "RangeIndex: 3283 entries, 0 to 3282\n",
      "Data columns (total 48 columns):\n",
      " #   Column                                                                    Non-Null Count  Dtype  \n",
      "---  ------                                                                    --------------  -----  \n",
      " 0   FIPS Code                                                                 3283 non-null   int64  \n",
      " 1   State                                                                     3283 non-null   object \n",
      " 2   Area name                                                                 3283 non-null   object \n",
      " 3   2003 Rural-urban Continuum Code                                           3221 non-null   float64\n",
      " 4   2003 Urban Influence Code                                                 3221 non-null   float64\n",
      " 5   2013 Rural-urban Continuum Code                                           3221 non-null   float64\n",
      " 6   2013 Urban Influence Code                                                 3221 non-null   float64\n",
      " 7   City/Suburb/Town/Rural 2013                                               3221 non-null   object \n",
      " 8   Less than a high school diploma, 1970                                     3186 non-null   object \n",
      " 9   High school diploma only, 1970                                            3186 non-null   object \n",
      " 10  Some college (1-3 years), 1970                                            3186 non-null   object \n",
      " 11  Four years of college or higher, 1970                                     3186 non-null   object \n",
      " 12  Percent of adults with less than a high school diploma, 1970              3186 non-null   float64\n",
      " 13  Percent of adults with a high school diploma only, 1970                   3186 non-null   float64\n",
      " 14  Percent of adults completing some college (1-3 years), 1970               3186 non-null   float64\n",
      " 15  Percent of adults completing four years of college or higher, 1970        3186 non-null   float64\n",
      " 16  Less than a high school diploma, 1980                                     3267 non-null   object \n",
      " 17  High school diploma only, 1980                                            3267 non-null   object \n",
      " 18  Some college (1-3 years), 1980                                            3267 non-null   object \n",
      " 19  Four years of college or higher, 1980                                     3267 non-null   object \n",
      " 20  Percent of adults with less than a high school diploma, 1980              3267 non-null   float64\n",
      " 21  Percent of adults with a high school diploma only, 1980                   3267 non-null   float64\n",
      " 22  Percent of adults completing some college (1-3 years), 1980               3267 non-null   float64\n",
      " 23  Percent of adults completing four years of college or higher, 1980        3267 non-null   float64\n",
      " 24  Less than a high school diploma, 1990                                     3271 non-null   object \n",
      " 25  High school diploma only, 1990                                            3271 non-null   object \n",
      " 26  Some college or associate's degree, 1990                                  3271 non-null   object \n",
      " 27  Bachelor's degree or higher, 1990                                         3271 non-null   object \n",
      " 28  Percent of adults with less than a high school diploma, 1990              3271 non-null   float64\n",
      " 29  Percent of adults with a high school diploma only, 1990                   3271 non-null   float64\n",
      " 30  Percent of adults completing some college or associate's degree, 1990     3270 non-null   float64\n",
      " 31  Percent of adults with a bachelor's degree or higher, 1990                3271 non-null   float64\n",
      " 32  Less than a high school diploma, 2000                                     3272 non-null   object \n",
      " 33  High school diploma only, 2000                                            3272 non-null   object \n",
      " 34  Some college or associate's degree, 2000                                  3272 non-null   object \n",
      " 35  Bachelor's degree or higher, 2000                                         3272 non-null   object \n",
      " 36  Percent of adults with less than a high school diploma, 2000              3272 non-null   float64\n",
      " 37  Percent of adults with a high school diploma only, 2000                   3272 non-null   float64\n",
      " 38  Percent of adults completing some college or associate's degree, 2000     3272 non-null   float64\n",
      " 39  Percent of adults with a bachelor's degree or higher, 2000                3272 non-null   float64\n",
      " 40  Less than a high school diploma, 2015-19                                  3273 non-null   object \n",
      " 41  High school diploma only, 2015-19                                         3273 non-null   object \n",
      " 42  Some college or associate's degree, 2015-19                               3273 non-null   object \n",
      " 43  Bachelor's degree or higher, 2015-19                                      3273 non-null   object \n",
      " 44  Percent of adults with less than a high school diploma, 2015-19           3273 non-null   float64\n",
      " 45  Percent of adults with a high school diploma only, 2015-19                3273 non-null   float64\n",
      " 46  Percent of adults completing some college or associate's degree, 2015-19  3273 non-null   float64\n",
      " 47  Percent of adults with a bachelor's degree or higher, 2015-19             3273 non-null   float64\n",
      "dtypes: float64(24), int64(1), object(23)\n",
      "memory usage: 1.2+ MB\n"
     ]
    }
   ],
   "source": [
    "education.info()\n"
   ]
  },
  {
   "cell_type": "code",
   "execution_count": 6,
   "metadata": {},
   "outputs": [
    {
     "name": "stdout",
     "output_type": "stream",
     "text": [
      "<class 'pandas.core.frame.DataFrame'>\n",
      "RangeIndex: 3221 entries, 0 to 3220\n",
      "Data columns (total 7 columns):\n",
      " #   Column                  Non-Null Count  Dtype \n",
      "---  ------                  --------------  ----- \n",
      " 0   FIPS                    3221 non-null   int64 \n",
      " 1   State                   3221 non-null   object\n",
      " 2   County_Name             3221 non-null   object\n",
      " 3   Population_2010         3221 non-null   object\n",
      " 4   UIC_2013                3221 non-null   int64 \n",
      " 5   Description             3221 non-null   object\n",
      " 6   City/Suburb/Town/Rural  3221 non-null   object\n",
      "dtypes: int64(2), object(5)\n",
      "memory usage: 176.3+ KB\n"
     ]
    }
   ],
   "source": [
    "uic_codes.info()"
   ]
  },
  {
   "cell_type": "code",
   "execution_count": 7,
   "metadata": {},
   "outputs": [
    {
     "name": "stdout",
     "output_type": "stream",
     "text": [
      "<class 'pandas.core.frame.DataFrame'>\n",
      "RangeIndex: 3275 entries, 0 to 3274\n",
      "Data columns (total 93 columns):\n",
      " #   Column                                     Non-Null Count  Dtype  \n",
      "---  ------                                     --------------  -----  \n",
      " 0   FIPS_Code                                  3275 non-null   int64  \n",
      " 1   State                                      3275 non-null   object \n",
      " 2   Area_name                                  3275 non-null   object \n",
      " 3   Rural_urban_continuum_code_2013            3219 non-null   float64\n",
      " 4   Urban_influence_code_2013                  3219 non-null   float64\n",
      " 5   City/Suburb/Town/Rural                     3219 non-null   object \n",
      " 6   Metro_2013                                 3222 non-null   float64\n",
      " 7   Civilian_labor_force_2000                  3270 non-null   object \n",
      " 8   Employed_2000                              3270 non-null   object \n",
      " 9   Unemployed_2000                            3270 non-null   object \n",
      " 10  Unemployment_rate_2000                     3270 non-null   float64\n",
      " 11  Civilian_labor_force_2001                  3270 non-null   object \n",
      " 12  Employed_2001                              3270 non-null   object \n",
      " 13  Unemployed_2001                            3270 non-null   object \n",
      " 14  Unemployment_rate_2001                     3270 non-null   float64\n",
      " 15  Civilian_labor_force_2002                  3270 non-null   object \n",
      " 16  Employed_2002                              3270 non-null   object \n",
      " 17  Unemployed_2002                            3270 non-null   object \n",
      " 18  Unemployment_rate_2002                     3270 non-null   float64\n",
      " 19  Civilian_labor_force_2003                  3270 non-null   object \n",
      " 20  Employed_2003                              3270 non-null   object \n",
      " 21  Unemployed_2003                            3270 non-null   object \n",
      " 22  Unemployment_rate_2003                     3270 non-null   float64\n",
      " 23  Civilian_labor_force_2004                  3270 non-null   object \n",
      " 24  Employed_2004                              3270 non-null   object \n",
      " 25  Unemployed_2004                            3270 non-null   object \n",
      " 26  Unemployment_rate_2004                     3270 non-null   float64\n",
      " 27  Civilian_labor_force_2005                  3263 non-null   object \n",
      " 28  Employed_2005                              3263 non-null   object \n",
      " 29  Unemployed_2005                            3263 non-null   object \n",
      " 30  Unemployment_rate_2005                     3263 non-null   float64\n",
      " 31  Civilian_labor_force_2006                  3263 non-null   object \n",
      " 32  Employed_2006                              3263 non-null   object \n",
      " 33  Unemployed_2006                            3263 non-null   object \n",
      " 34  Unemployment_rate_2006                     3263 non-null   float64\n",
      " 35  Civilian_labor_force_2007                  3270 non-null   object \n",
      " 36  Employed_2007                              3270 non-null   object \n",
      " 37  Unemployed_2007                            3270 non-null   object \n",
      " 38  Unemployment_rate_2007                     3270 non-null   float64\n",
      " 39  Civilian_labor_force_2008                  3270 non-null   object \n",
      " 40  Employed_2008                              3270 non-null   object \n",
      " 41  Unemployed_2008                            3270 non-null   object \n",
      " 42  Unemployment_rate_2008                     3270 non-null   float64\n",
      " 43  Civilian_labor_force_2009                  3270 non-null   object \n",
      " 44  Employed_2009                              3270 non-null   object \n",
      " 45  Unemployed_2009                            3270 non-null   object \n",
      " 46  Unemployment_rate_2009                     3270 non-null   float64\n",
      " 47  Civilian_labor_force_2010                  3272 non-null   object \n",
      " 48  Employed_2010                              3272 non-null   object \n",
      " 49  Unemployed_2010                            3272 non-null   object \n",
      " 50  Unemployment_rate_2010                     3272 non-null   float64\n",
      " 51  Civilian_labor_force_2011                  3272 non-null   object \n",
      " 52  Employed_2011                              3272 non-null   object \n",
      " 53  Unemployed_2011                            3272 non-null   object \n",
      " 54  Unemployment_rate_2011                     3272 non-null   float64\n",
      " 55  Civilian_labor_force_2012                  3272 non-null   object \n",
      " 56  Employed_2012                              3272 non-null   object \n",
      " 57  Unemployed_2012                            3272 non-null   object \n",
      " 58  Unemployment_rate_2012                     3272 non-null   float64\n",
      " 59  Civilian_labor_force_2013                  3272 non-null   object \n",
      " 60  Employed_2013                              3272 non-null   object \n",
      " 61  Unemployed_2013                            3272 non-null   object \n",
      " 62  Unemployment_rate_2013                     3272 non-null   float64\n",
      " 63  Civilian_labor_force_2014                  3272 non-null   object \n",
      " 64  Employed_2014                              3272 non-null   object \n",
      " 65  Unemployed_2014                            3272 non-null   object \n",
      " 66  Unemployment_rate_2014                     3272 non-null   float64\n",
      " 67  Civilian_labor_force_2015                  3272 non-null   object \n",
      " 68  Employed_2015                              3272 non-null   object \n",
      " 69  Unemployed_2015                            3272 non-null   object \n",
      " 70  Unemployment_rate_2015                     3272 non-null   float64\n",
      " 71  Civilian_labor_force_2016                  3272 non-null   object \n",
      " 72  Employed_2016                              3272 non-null   object \n",
      " 73  Unemployed_2016                            3272 non-null   object \n",
      " 74  Unemployment_rate_2016                     3272 non-null   float64\n",
      " 75  Civilian_labor_force_2017                  3272 non-null   object \n",
      " 76  Employed_2017                              3272 non-null   object \n",
      " 77  Unemployed_2017                            3272 non-null   object \n",
      " 78  Unemployment_rate_2017                     3272 non-null   float64\n",
      " 79  Civilian_labor_force_2018                  3272 non-null   object \n",
      " 80  Employed_2018                              3272 non-null   object \n",
      " 81  Unemployed_2018                            3272 non-null   object \n",
      " 82  Unemployment_rate_2018                     3272 non-null   float64\n",
      " 83  Civilian_labor_force_2019                  3272 non-null   object \n",
      " 84  Employed_2019                              3272 non-null   object \n",
      " 85  Unemployed_2019                            3272 non-null   object \n",
      " 86  Unemployment_rate_2019                     3272 non-null   float64\n",
      " 87  Civilian_labor_force_2020                  3193 non-null   object \n",
      " 88  Employed_2020                              3193 non-null   object \n",
      " 89  Unemployed_2020                            3193 non-null   object \n",
      " 90  Unemployment_rate_2020                     3193 non-null   float64\n",
      " 91  Median_Household_Income_2019               3193 non-null   object \n",
      " 92  Med_HH_Income_Percent_of_State_Total_2019  3192 non-null   float64\n",
      "dtypes: float64(25), int64(1), object(67)\n",
      "memory usage: 2.3+ MB\n"
     ]
    }
   ],
   "source": [
    "unemployment.info()"
   ]
  }
 ],
 "metadata": {
  "kernelspec": {
   "display_name": "socio_health",
   "language": "python",
   "name": "python3"
  },
  "language_info": {
   "codemirror_mode": {
    "name": "ipython",
    "version": 3
   },
   "file_extension": ".py",
   "mimetype": "text/x-python",
   "name": "python",
   "nbconvert_exporter": "python",
   "pygments_lexer": "ipython3",
   "version": "3.13.1"
  }
 },
 "nbformat": 4,
 "nbformat_minor": 2
}
