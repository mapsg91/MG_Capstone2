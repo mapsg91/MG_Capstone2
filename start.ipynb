{
 "cells": [
  {
   "cell_type": "markdown",
   "metadata": {},
   "source": [
    "## Importing libraries required"
   ]
  },
  {
   "cell_type": "code",
   "execution_count": 5,
   "metadata": {},
   "outputs": [],
   "source": [
    "#import kagglehub\n",
    "import pandas as pd\n",
    "import numpy as np\n",
    "import seaborn as sns\n",
    "import matplotlib as plt\n",
    "import statsmodels as sm"
   ]
  },
  {
   "cell_type": "markdown",
   "metadata": {},
   "source": [
    "dataset copied to working directory from kagglehub"
   ]
  },
  {
   "cell_type": "markdown",
   "metadata": {},
   "source": [
    "## Importing sheets from Dataset "
   ]
  },
  {
   "cell_type": "code",
   "execution_count": 6,
   "metadata": {},
   "outputs": [],
   "source": [
    "education = pd.read_csv('education.csv')\n",
    "uic_codes = pd.read_csv('UIC_codes.csv')\n",
    "unemployment = pd.read_csv('unemployment.csv')"
   ]
  },
  {
   "cell_type": "code",
   "execution_count": null,
   "metadata": {},
   "outputs": [],
   "source": [
    "education.info()\n",
    "education.describe()"
   ]
  },
  {
   "cell_type": "code",
   "execution_count": null,
   "metadata": {},
   "outputs": [],
   "source": [
    "print(education.columns)"
   ]
  },
  {
   "cell_type": "code",
   "execution_count": 13,
   "metadata": {},
   "outputs": [
    {
     "name": "stdout",
     "output_type": "stream",
     "text": [
      "Index(['FIPS_Code', 'State', 'Area_name', 'Rural_urban_continuum_code_2013',\n",
      "       'Urban_influence_code_2013', 'City/Suburb/Town/Rural', 'Metro_2013',\n",
      "       'Civilian_labor_force_2000', 'Employed_2000', 'Unemployed_2000',\n",
      "       'Unemployment_rate_2000', 'Civilian_labor_force_2001', 'Employed_2001',\n",
      "       'Unemployed_2001', 'Unemployment_rate_2001',\n",
      "       'Civilian_labor_force_2002', 'Employed_2002', 'Unemployed_2002',\n",
      "       'Unemployment_rate_2002', 'Civilian_labor_force_2003', 'Employed_2003',\n",
      "       'Unemployed_2003', 'Unemployment_rate_2003',\n",
      "       'Civilian_labor_force_2004', 'Employed_2004', 'Unemployed_2004',\n",
      "       'Unemployment_rate_2004', 'Civilian_labor_force_2005', 'Employed_2005',\n",
      "       'Unemployed_2005', 'Unemployment_rate_2005',\n",
      "       'Civilian_labor_force_2006', 'Employed_2006', 'Unemployed_2006',\n",
      "       'Unemployment_rate_2006', 'Civilian_labor_force_2007', 'Employed_2007',\n",
      "       'Unemployed_2007', 'Unemployment_rate_2007',\n",
      "       'Civilian_labor_force_2008', 'Employed_2008', 'Unemployed_2008',\n",
      "       'Unemployment_rate_2008', 'Civilian_labor_force_2009', 'Employed_2009',\n",
      "       'Unemployed_2009', 'Unemployment_rate_2009',\n",
      "       'Civilian_labor_force_2010', 'Employed_2010', 'Unemployed_2010',\n",
      "       'Unemployment_rate_2010', 'Civilian_labor_force_2011', 'Employed_2011',\n",
      "       'Unemployed_2011', 'Unemployment_rate_2011',\n",
      "       'Civilian_labor_force_2012', 'Employed_2012', 'Unemployed_2012',\n",
      "       'Unemployment_rate_2012', 'Civilian_labor_force_2013', 'Employed_2013',\n",
      "       'Unemployed_2013', 'Unemployment_rate_2013',\n",
      "       'Civilian_labor_force_2014', 'Employed_2014', 'Unemployed_2014',\n",
      "       'Unemployment_rate_2014', 'Civilian_labor_force_2015', 'Employed_2015',\n",
      "       'Unemployed_2015', 'Unemployment_rate_2015',\n",
      "       'Civilian_labor_force_2016', 'Employed_2016', 'Unemployed_2016',\n",
      "       'Unemployment_rate_2016', 'Civilian_labor_force_2017', 'Employed_2017',\n",
      "       'Unemployed_2017', 'Unemployment_rate_2017',\n",
      "       'Civilian_labor_force_2018', 'Employed_2018', 'Unemployed_2018',\n",
      "       'Unemployment_rate_2018', 'Civilian_labor_force_2019', 'Employed_2019',\n",
      "       'Unemployed_2019', 'Unemployment_rate_2019',\n",
      "       'Civilian_labor_force_2020', 'Employed_2020', 'Unemployed_2020',\n",
      "       'Unemployment_rate_2020', 'Median_Household_Income_2019',\n",
      "       'Med_HH_Income_Percent_of_State_Total_2019'],\n",
      "      dtype='object')\n"
     ]
    }
   ],
   "source": [
    "#print(uic_codes.columns)\n",
    "print(unemployment.columns)"
   ]
  }
 ],
 "metadata": {
  "kernelspec": {
   "display_name": "pydata",
   "language": "python",
   "name": "python3"
  },
  "language_info": {
   "codemirror_mode": {
    "name": "ipython",
    "version": 3
   },
   "file_extension": ".py",
   "mimetype": "text/x-python",
   "name": "python",
   "nbconvert_exporter": "python",
   "pygments_lexer": "ipython3",
   "version": "3.13.1"
  }
 },
 "nbformat": 4,
 "nbformat_minor": 2
}
