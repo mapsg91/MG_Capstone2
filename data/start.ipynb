{
 "cells": [
  {
   "cell_type": "markdown",
   "metadata": {},
   "source": [
    "## Importing libraries required"
   ]
  },
  {
   "cell_type": "code",
   "execution_count": 2,
   "metadata": {},
   "outputs": [],
   "source": [
    "#import kagglehub\n",
    "import pandas as pd\n",
    "import numpy as np\n",
    "import seaborn as sns\n",
    "import matplotlib as plt\n",
    "import statsmodels as sm"
   ]
  },
  {
   "cell_type": "markdown",
   "metadata": {},
   "source": [
    "dataset copied to working directory from kagglehub"
   ]
  },
  {
   "cell_type": "markdown",
   "metadata": {},
   "source": [
    "## Importing sheets from Dataset "
   ]
  },
  {
   "cell_type": "code",
   "execution_count": null,
   "metadata": {},
   "outputs": [],
   "source": [
    "education = pd.read_csv('education_2023.csv')\n",
    "unemployment = pd.read_csv('unemployment_2023.csv')\n",
    "quality_of_life = pd.read_csv('QOL.csv')\n",
    "ltss_2022 = pd.read_csv('ltss_2022.csv')\n",
    "ltss_expenses = pd.read_csv('ltss_expenses.csv')\n",
    "us_states = pd.read_csv('us_states.csv')"
   ]
  },
  {
   "cell_type": "markdown",
   "metadata": {},
   "source": [
    "# Data Cleansing: Target Variables and Naming Conventions\n",
    "see: documentation/data_model.md"
   ]
  },
  {
   "cell_type": "markdown",
   "metadata": {},
   "source": [
    "## Subset for most recetn values: education and unemployment"
   ]
  },
  {
   "cell_type": "code",
   "execution_count": null,
   "metadata": {},
   "outputs": [],
   "source": [
    "# education and unemployment subsets\n",
    "education_22_subset = education['Attribute'].isin(['FIPS Code','Area Name', 'State', 'Less than high school graduate, 2019-23', 'High school graduate (or equivalency), 2019-23', 'Some college or associate degree, 2019-23', 'Bachelor\\'s degree or higher, 2019-23'])\n",
    "unemployment_22_subset = unemployment['Attribute'].isin(['FIPS Code','Area Name', 'State', 'FIPS_Code','Area_Name', 'State', 'Civilian_labor_force_2022', 'Employed_2022', 'Unemployed_2022'])"
   ]
  },
  {
   "cell_type": "code",
   "execution_count": 17,
   "metadata": {},
   "outputs": [],
   "source": [
    "education_22 = education[education_22_subset]\n",
    "unemployment_22 = unemployment[unemployment_22_subset]"
   ]
  },
  {
   "cell_type": "code",
   "execution_count": 8,
   "metadata": {},
   "outputs": [],
   "source": [
    "education_names = {'FIPS Code': 'fips', 'Area Name':'county', 'State':'state', 'Less than high school graduate, 2019-23': 'no_hs_diploma', 'High school graduate (or equivalency), 2019-23':'hs_diploma', 'Some college or associate degree, 2019-23': 'some_college', 'Bachelor\\'s degree or higher, 2019-23': 'bachelors_or_more'}\n",
    "unemployment_names = {'FIPS_Code':'fips', 'Area_Name':'county', 'State':'state', 'Civilian_labor_force_2022':'labor_force', 'Employed_2022':'employed', 'Unemployed_2022':'unemployed'}"
   ]
  },
  {
   "cell_type": "code",
   "execution_count": null,
   "metadata": {},
   "outputs": [],
   "source": [
    "#education_dtypes = {'fips': 'str', 'county': 'str', 'state': 'str', 'no_hs_diploma': 'float', 'hs_diploma': 'float', 'some_college': 'float', 'bachelors_or_more': 'float'}\n",
    "#unemployment_dtypes = {'fips': 'str', 'county': 'str', 'state': 'str', 'labor_force': 'float', 'employed': 'float', 'unemployed': 'float'}"
   ]
  },
  {
   "cell_type": "code",
   "execution_count": null,
   "metadata": {},
   "outputs": [],
   "source": [
    "def clean_dataframe(df, subset, names):\n",
    "    #df = df[subset]\n",
    "    df = df.rename(columns=names)\n",
    "    return df"
   ]
  },
  {
   "cell_type": "code",
   "execution_count": 16,
   "metadata": {},
   "outputs": [
    {
     "data": {
      "application/vnd.microsoft.datawrangler.viewer.v0+json": {
       "columns": [
        {
         "name": "index",
         "rawType": "int64",
         "type": "integer"
        },
        {
         "name": "fips",
         "rawType": "int64",
         "type": "integer"
        },
        {
         "name": "state",
         "rawType": "object",
         "type": "string"
        },
        {
         "name": "county",
         "rawType": "object",
         "type": "string"
        },
        {
         "name": "Attribute",
         "rawType": "object",
         "type": "string"
        },
        {
         "name": "Value",
         "rawType": "float64",
         "type": "float"
        }
       ],
       "conversionMethod": "pd.DataFrame",
       "ref": "cb5d8176-dda1-4a86-bddb-866539b79b91",
       "rows": [
        [
         "88",
         "0",
         "US",
         "United States",
         "Civilian_labor_force_2022",
         "164341251.0"
        ],
        [
         "89",
         "0",
         "US",
         "United States",
         "Employed_2022",
         "158342285.0"
        ],
        [
         "90",
         "0",
         "US",
         "United States",
         "Unemployed_2022",
         "5998966.0"
        ],
        [
         "185",
         "1000",
         "AL",
         "Alabama",
         "Civilian_labor_force_2022",
         "2276362.0"
        ],
        [
         "186",
         "1000",
         "AL",
         "Alabama",
         "Employed_2022",
         "2218627.0"
        ],
        [
         "187",
         "1000",
         "AL",
         "Alabama",
         "Unemployed_2022",
         "57735.0"
        ],
        [
         "286",
         "1001",
         "AL",
         "Autauga County, AL",
         "Civilian_labor_force_2022",
         "26656.0"
        ],
        [
         "287",
         "1001",
         "AL",
         "Autauga County, AL",
         "Employed_2022",
         "26065.0"
        ],
        [
         "288",
         "1001",
         "AL",
         "Autauga County, AL",
         "Unemployed_2022",
         "591.0"
        ],
        [
         "387",
         "1003",
         "AL",
         "Baldwin County, AL",
         "Civilian_labor_force_2022",
         "102280.0"
        ],
        [
         "388",
         "1003",
         "AL",
         "Baldwin County, AL",
         "Employed_2022",
         "99930.0"
        ],
        [
         "389",
         "1003",
         "AL",
         "Baldwin County, AL",
         "Unemployed_2022",
         "2350.0"
        ],
        [
         "488",
         "1005",
         "AL",
         "Barbour County, AL",
         "Civilian_labor_force_2022",
         "8139.0"
        ],
        [
         "489",
         "1005",
         "AL",
         "Barbour County, AL",
         "Employed_2022",
         "7813.0"
        ],
        [
         "490",
         "1005",
         "AL",
         "Barbour County, AL",
         "Unemployed_2022",
         "326.0"
        ],
        [
         "589",
         "1007",
         "AL",
         "Bibb County, AL",
         "Civilian_labor_force_2022",
         "8688.0"
        ],
        [
         "590",
         "1007",
         "AL",
         "Bibb County, AL",
         "Employed_2022",
         "8476.0"
        ],
        [
         "591",
         "1007",
         "AL",
         "Bibb County, AL",
         "Unemployed_2022",
         "212.0"
        ],
        [
         "690",
         "1009",
         "AL",
         "Blount County, AL",
         "Civilian_labor_force_2022",
         "25685.0"
        ],
        [
         "691",
         "1009",
         "AL",
         "Blount County, AL",
         "Employed_2022",
         "25128.0"
        ],
        [
         "692",
         "1009",
         "AL",
         "Blount County, AL",
         "Unemployed_2022",
         "557.0"
        ],
        [
         "791",
         "1011",
         "AL",
         "Bullock County, AL",
         "Civilian_labor_force_2022",
         "4541.0"
        ],
        [
         "792",
         "1011",
         "AL",
         "Bullock County, AL",
         "Employed_2022",
         "4416.0"
        ],
        [
         "793",
         "1011",
         "AL",
         "Bullock County, AL",
         "Unemployed_2022",
         "125.0"
        ],
        [
         "892",
         "1013",
         "AL",
         "Butler County, AL",
         "Civilian_labor_force_2022",
         "8811.0"
        ],
        [
         "893",
         "1013",
         "AL",
         "Butler County, AL",
         "Employed_2022",
         "8518.0"
        ],
        [
         "894",
         "1013",
         "AL",
         "Butler County, AL",
         "Unemployed_2022",
         "293.0"
        ],
        [
         "993",
         "1015",
         "AL",
         "Calhoun County, AL",
         "Civilian_labor_force_2022",
         "45733.0"
        ],
        [
         "994",
         "1015",
         "AL",
         "Calhoun County, AL",
         "Employed_2022",
         "44371.0"
        ],
        [
         "995",
         "1015",
         "AL",
         "Calhoun County, AL",
         "Unemployed_2022",
         "1362.0"
        ],
        [
         "1094",
         "1017",
         "AL",
         "Chambers County, AL",
         "Civilian_labor_force_2022",
         "15906.0"
        ],
        [
         "1095",
         "1017",
         "AL",
         "Chambers County, AL",
         "Employed_2022",
         "15508.0"
        ],
        [
         "1096",
         "1017",
         "AL",
         "Chambers County, AL",
         "Unemployed_2022",
         "398.0"
        ],
        [
         "1195",
         "1019",
         "AL",
         "Cherokee County, AL",
         "Civilian_labor_force_2022",
         "11723.0"
        ],
        [
         "1196",
         "1019",
         "AL",
         "Cherokee County, AL",
         "Employed_2022",
         "11457.0"
        ],
        [
         "1197",
         "1019",
         "AL",
         "Cherokee County, AL",
         "Unemployed_2022",
         "266.0"
        ],
        [
         "1296",
         "1021",
         "AL",
         "Chilton County, AL",
         "Civilian_labor_force_2022",
         "20180.0"
        ],
        [
         "1297",
         "1021",
         "AL",
         "Chilton County, AL",
         "Employed_2022",
         "19732.0"
        ],
        [
         "1298",
         "1021",
         "AL",
         "Chilton County, AL",
         "Unemployed_2022",
         "448.0"
        ],
        [
         "1397",
         "1023",
         "AL",
         "Choctaw County, AL",
         "Civilian_labor_force_2022",
         "4325.0"
        ],
        [
         "1398",
         "1023",
         "AL",
         "Choctaw County, AL",
         "Employed_2022",
         "4164.0"
        ],
        [
         "1399",
         "1023",
         "AL",
         "Choctaw County, AL",
         "Unemployed_2022",
         "161.0"
        ],
        [
         "1498",
         "1025",
         "AL",
         "Clarke County, AL",
         "Civilian_labor_force_2022",
         "7676.0"
        ],
        [
         "1499",
         "1025",
         "AL",
         "Clarke County, AL",
         "Employed_2022",
         "7302.0"
        ],
        [
         "1500",
         "1025",
         "AL",
         "Clarke County, AL",
         "Unemployed_2022",
         "374.0"
        ],
        [
         "1599",
         "1027",
         "AL",
         "Clay County, AL",
         "Civilian_labor_force_2022",
         "6106.0"
        ],
        [
         "1600",
         "1027",
         "AL",
         "Clay County, AL",
         "Employed_2022",
         "5971.0"
        ],
        [
         "1601",
         "1027",
         "AL",
         "Clay County, AL",
         "Unemployed_2022",
         "135.0"
        ],
        [
         "1700",
         "1029",
         "AL",
         "Cleburne County, AL",
         "Civilian_labor_force_2022",
         "6133.0"
        ],
        [
         "1701",
         "1029",
         "AL",
         "Cleburne County, AL",
         "Employed_2022",
         "5989.0"
        ]
       ],
       "shape": {
        "columns": 5,
        "rows": 9819
       }
      },
      "text/html": [
       "<div>\n",
       "<style scoped>\n",
       "    .dataframe tbody tr th:only-of-type {\n",
       "        vertical-align: middle;\n",
       "    }\n",
       "\n",
       "    .dataframe tbody tr th {\n",
       "        vertical-align: top;\n",
       "    }\n",
       "\n",
       "    .dataframe thead th {\n",
       "        text-align: right;\n",
       "    }\n",
       "</style>\n",
       "<table border=\"1\" class=\"dataframe\">\n",
       "  <thead>\n",
       "    <tr style=\"text-align: right;\">\n",
       "      <th></th>\n",
       "      <th>fips</th>\n",
       "      <th>state</th>\n",
       "      <th>county</th>\n",
       "      <th>Attribute</th>\n",
       "      <th>Value</th>\n",
       "    </tr>\n",
       "  </thead>\n",
       "  <tbody>\n",
       "    <tr>\n",
       "      <th>88</th>\n",
       "      <td>0</td>\n",
       "      <td>US</td>\n",
       "      <td>United States</td>\n",
       "      <td>Civilian_labor_force_2022</td>\n",
       "      <td>164341251.0</td>\n",
       "    </tr>\n",
       "    <tr>\n",
       "      <th>89</th>\n",
       "      <td>0</td>\n",
       "      <td>US</td>\n",
       "      <td>United States</td>\n",
       "      <td>Employed_2022</td>\n",
       "      <td>158342285.0</td>\n",
       "    </tr>\n",
       "    <tr>\n",
       "      <th>90</th>\n",
       "      <td>0</td>\n",
       "      <td>US</td>\n",
       "      <td>United States</td>\n",
       "      <td>Unemployed_2022</td>\n",
       "      <td>5998966.0</td>\n",
       "    </tr>\n",
       "    <tr>\n",
       "      <th>185</th>\n",
       "      <td>1000</td>\n",
       "      <td>AL</td>\n",
       "      <td>Alabama</td>\n",
       "      <td>Civilian_labor_force_2022</td>\n",
       "      <td>2276362.0</td>\n",
       "    </tr>\n",
       "    <tr>\n",
       "      <th>186</th>\n",
       "      <td>1000</td>\n",
       "      <td>AL</td>\n",
       "      <td>Alabama</td>\n",
       "      <td>Employed_2022</td>\n",
       "      <td>2218627.0</td>\n",
       "    </tr>\n",
       "    <tr>\n",
       "      <th>...</th>\n",
       "      <td>...</td>\n",
       "      <td>...</td>\n",
       "      <td>...</td>\n",
       "      <td>...</td>\n",
       "      <td>...</td>\n",
       "    </tr>\n",
       "    <tr>\n",
       "      <th>329624</th>\n",
       "      <td>72151</td>\n",
       "      <td>PR</td>\n",
       "      <td>Yabucoa Municipio, PR</td>\n",
       "      <td>Employed_2022</td>\n",
       "      <td>8499.0</td>\n",
       "    </tr>\n",
       "    <tr>\n",
       "      <th>329625</th>\n",
       "      <td>72151</td>\n",
       "      <td>PR</td>\n",
       "      <td>Yabucoa Municipio, PR</td>\n",
       "      <td>Unemployed_2022</td>\n",
       "      <td>772.0</td>\n",
       "    </tr>\n",
       "    <tr>\n",
       "      <th>329718</th>\n",
       "      <td>72153</td>\n",
       "      <td>PR</td>\n",
       "      <td>Yauco Municipio, PR</td>\n",
       "      <td>Civilian_labor_force_2022</td>\n",
       "      <td>10311.0</td>\n",
       "    </tr>\n",
       "    <tr>\n",
       "      <th>329719</th>\n",
       "      <td>72153</td>\n",
       "      <td>PR</td>\n",
       "      <td>Yauco Municipio, PR</td>\n",
       "      <td>Employed_2022</td>\n",
       "      <td>9247.0</td>\n",
       "    </tr>\n",
       "    <tr>\n",
       "      <th>329720</th>\n",
       "      <td>72153</td>\n",
       "      <td>PR</td>\n",
       "      <td>Yauco Municipio, PR</td>\n",
       "      <td>Unemployed_2022</td>\n",
       "      <td>1064.0</td>\n",
       "    </tr>\n",
       "  </tbody>\n",
       "</table>\n",
       "<p>9819 rows × 5 columns</p>\n",
       "</div>"
      ],
      "text/plain": [
       "         fips state                 county                  Attribute  \\\n",
       "88          0    US          United States  Civilian_labor_force_2022   \n",
       "89          0    US          United States              Employed_2022   \n",
       "90          0    US          United States            Unemployed_2022   \n",
       "185      1000    AL                Alabama  Civilian_labor_force_2022   \n",
       "186      1000    AL                Alabama              Employed_2022   \n",
       "...       ...   ...                    ...                        ...   \n",
       "329624  72151    PR  Yabucoa Municipio, PR              Employed_2022   \n",
       "329625  72151    PR  Yabucoa Municipio, PR            Unemployed_2022   \n",
       "329718  72153    PR    Yauco Municipio, PR  Civilian_labor_force_2022   \n",
       "329719  72153    PR    Yauco Municipio, PR              Employed_2022   \n",
       "329720  72153    PR    Yauco Municipio, PR            Unemployed_2022   \n",
       "\n",
       "              Value  \n",
       "88      164341251.0  \n",
       "89      158342285.0  \n",
       "90        5998966.0  \n",
       "185       2276362.0  \n",
       "186       2218627.0  \n",
       "...             ...  \n",
       "329624       8499.0  \n",
       "329625        772.0  \n",
       "329718      10311.0  \n",
       "329719       9247.0  \n",
       "329720       1064.0  \n",
       "\n",
       "[9819 rows x 5 columns]"
      ]
     },
     "execution_count": 16,
     "metadata": {},
     "output_type": "execute_result"
    }
   ],
   "source": [
    "clean_dataframe(education, education_22_subset, education_names)\n",
    "clean_dataframe(unemployment, unemployment_22_subset, unemployment_names)"
   ]
  },
  {
   "cell_type": "markdown",
   "metadata": {},
   "source": [
    "# Insights"
   ]
  }
 ],
 "metadata": {
  "kernelspec": {
   "display_name": "socio_health",
   "language": "python",
   "name": "python3"
  },
  "language_info": {
   "codemirror_mode": {
    "name": "ipython",
    "version": 3
   },
   "file_extension": ".py",
   "mimetype": "text/x-python",
   "name": "python",
   "nbconvert_exporter": "python",
   "pygments_lexer": "ipython3",
   "version": "3.13.1"
  }
 },
 "nbformat": 4,
 "nbformat_minor": 2
}
