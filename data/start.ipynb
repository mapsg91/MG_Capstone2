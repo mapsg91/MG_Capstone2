{
 "cells": [
  {
   "cell_type": "markdown",
   "metadata": {},
   "source": [
    "## Importing libraries required"
   ]
  },
  {
   "cell_type": "code",
   "execution_count": 1,
   "metadata": {},
   "outputs": [],
   "source": [
    "#import kagglehub\n",
    "import pandas as pd\n",
    "import numpy as np\n",
    "import seaborn as sns\n",
    "import matplotlib as plt\n",
    "import statsmodels as sm"
   ]
  },
  {
   "cell_type": "markdown",
   "metadata": {},
   "source": [
    "dataset copied to working directory from kagglehub"
   ]
  },
  {
   "cell_type": "markdown",
   "metadata": {},
   "source": [
    "## Importing sheets from Dataset "
   ]
  },
  {
   "cell_type": "code",
   "execution_count": 3,
   "metadata": {},
   "outputs": [],
   "source": [
    "education = pd.read_csv('education_2023.csv')\n",
    "unemployment = pd.read_csv('unemployment_2023.csv')\n",
    "quality_of_life = pd.read_csv('QOL.csv')\n",
    "ltss_2022 = pd.read_csv('ltss_2022.csv')\n",
    "ltss_expenses = pd.read_csv('ltss_expenses.csv')"
   ]
  },
  {
   "cell_type": "markdown",
   "metadata": {},
   "source": [
    "# Data Cleansing"
   ]
  },
  {
   "cell_type": "markdown",
   "metadata": {},
   "source": [
    "## 1. Identify common/key values and naming conventions\n",
    "a. fips\n",
    "b. county\n",
    "c. state\n",
    "d. state abbr\n",
    "## 2. Identify target variables and naming conventions from each dataset \n",
    "a. education (subset rows)\n",
    "    'Less than high school graduate, 2019-23', 'High school graduate (or equivalency), 2019-23', 'Some college or associate degree, 2019-23', 'Bachelor's degree or higher, 2019-23'\n",
    "    - after: col names to change: 'FIPS Code': 'fips', 'Area Name':'county', 'State':'state'\n",
    "b. unemployment (subset rows)\n",
    "    Civilian_labor_force_2022, Employed_2022, Unemployed_2022\n",
    "    - after: col names to change: 'FIPS_Code':'fips', 'Area_Name':'county', 'State':'state'\n",
    "c. quality_of_life (subset columns)\n",
    "    NMCNTY, FIPS, LSTATE, 2022 Population, 2020PopulrVoteParty, Cost of Living, 2022 Median Income, Diversity Rank (Race), Diversity Rank (Gender)\n",
    "    - col names to change: NMCNTY: county, FIPS:fips, LSTATE: state_abbr\n",
    "d. ltss_2022(state-level)-  (subset columns)\n",
    "    State, LTSS (total), Institutional (total), HCBS (total), Both HCBS and Institutional (total)\n",
    "    - col names to change: State:'state', LTSS (total): 'ltss_total_enrollment', Institutional (total): 'insitutional_enrollment', HCBS (total): 'hcbs_enrollment'\n",
    "e. ltss_expenses(state-level)- **rename 'totals' to 'total expenses'**- (subset columns)\n",
    "    State, LTSS (total), Institutional (total), HCBS (total), Both HCBS and Institutional (total)\n",
    "        - col names to change: State:'state', LTSS (total): 'ltss_total_expense', Institutional (total): 'insitutional_expense', HCBS (total): 'hcbs_expense'\n",
    "## Issues\n",
    "education and unemployment subsets willl include states and us values, subset by str including 'county' will exclude '\n",
    "census area', 'muncipality', etc\n",
    "- left join w qol, since only counties included"
   ]
  },
  {
   "cell_type": "markdown",
   "metadata": {},
   "source": [
    "# Insights"
   ]
  }
 ],
 "metadata": {
  "kernelspec": {
   "display_name": "socio_health",
   "language": "python",
   "name": "python3"
  },
  "language_info": {
   "codemirror_mode": {
    "name": "ipython",
    "version": 3
   },
   "file_extension": ".py",
   "mimetype": "text/x-python",
   "name": "python",
   "nbconvert_exporter": "python",
   "pygments_lexer": "ipython3",
   "version": "3.13.1"
  }
 },
 "nbformat": 4,
 "nbformat_minor": 2
}
